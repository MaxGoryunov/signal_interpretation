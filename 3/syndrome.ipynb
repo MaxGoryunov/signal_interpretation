{
 "cells": [
  {
   "cell_type": "code",
   "execution_count": 2,
   "metadata": {},
   "outputs": [
    {
     "name": "stdout",
     "output_type": "stream",
     "text": [
      "Кодовые слова и соответствующие им исходные биты:\n",
      "[0 0 0] : [0 0 0 0 0]\n",
      "[0 0 1] : [1 0 1 1 0]\n",
      "[0 1 0] : [0 1 1 0 1]\n",
      "[0 1 1] : [1 1 0 1 1]\n",
      "[1 0 0] : [1 1 0 1 0]\n",
      "[1 0 1] : [0 1 1 0 0]\n",
      "[1 1 0] : [1 0 1 1 1]\n",
      "[1 1 1] : [0 0 0 0 1]\n",
      "n = 5, k = 3, d_min = 1, t = 0.0\n",
      "Custom:\n",
      " [[0 1 1 0 0]\n",
      " [1 1 0 1 0]\n",
      " [0 0 0 0 1]]\n",
      "Проверочная матрица:\n",
      "[[1 0 0 1 0]\n",
      " [0 1 1 1 0]]\n",
      "Проверка:\n",
      "[[0 0]\n",
      " [0 0]\n",
      " [0 0]]\n",
      "Таблица синдромного декодирования:\n",
      "Синдром (0, 0): Ошибка [0 0 0 0 0]\n",
      "Синдром (1, 1): Ошибка [0 0 0 1 0]\n",
      "Синдром (0, 1): Ошибка [0 0 1 0 0]\n",
      "Синдром (1, 0): Ошибка [1 0 0 0 0]\n"
     ]
    }
   ],
   "source": [
    "import numpy as np\n",
    "\n",
    "G = np.array([\n",
    "    [1, 1, 0, 1, 0],\n",
    "    [0, 1, 1, 0, 1],\n",
    "    [1, 0, 1, 1, 0]\n",
    "], dtype=int)\n",
    "\n",
    "\n",
    "def w(x: np.ndarray):\n",
    "    return np.count_nonzero(x)\n",
    "\n",
    "k, n = G.shape\n",
    "r = n - k\n",
    "\n",
    "def generate_code_words_with_info_bits(G):\n",
    "    code_words = []\n",
    "    info_bits_list = []\n",
    "    for i in range(2**k):\n",
    "        info_bits = np.array([int(x) for x in f\"{i:0{k}b}\"], dtype=int)\n",
    "        code_word = np.mod(np.dot(info_bits, G), 2)\n",
    "        code_words.append(code_word)\n",
    "        info_bits_list.append(info_bits)\n",
    "    return np.array(code_words), np.array(info_bits_list)\n",
    "\n",
    "code_words, info_bits = generate_code_words_with_info_bits(G)\n",
    "\n",
    "print(\"Кодовые слова и соответствующие им исходные биты:\")\n",
    "dmin = n + 1\n",
    "for i in range(len(code_words)):\n",
    "    print(f\"{info_bits[i]} : {code_words[i]}\")\n",
    "    wi = w(code_words[i])\n",
    "    if wi < dmin and wi != 0:\n",
    "        dmin = wi\n",
    "\n",
    "print(f'n = {n}, k = {k}, d_min = {dmin}, t = {np.floor((dmin - 1) / 2)}')\n",
    "\n",
    "GforH = np.array(\n",
    "    code_words[[5, 4, 7]]\n",
    ")\n",
    "\n",
    "print(f'Custom:\\n {GforH}')\n",
    "\n",
    "H = np.hstack((np.eye(r, dtype=int), GforH[:, :2].T))\n",
    "print('Проверочная матрица:')\n",
    "print(H)\n",
    "\n",
    "print('Проверка:')\n",
    "print(np.mod(G @ H.T, 2))\n",
    "\n",
    "def build_syndrome_table(H, n):\n",
    "    syndrome_table = {}\n",
    "    for i in range(2**n):\n",
    "        error_vector = np.array([int(x) for x in f\"{i:0{n}b}\"], dtype=int)\n",
    "        # print(f'error vector: {error_vector}')\n",
    "        syndrome = np.mod(np.dot(H, error_vector) % 2, 2)\n",
    "        syndrome_tuple = tuple(syndrome)\n",
    "        if syndrome_tuple not in syndrome_table:\n",
    "            syndrome_table[syndrome_tuple] = error_vector\n",
    "        elif w(error_vector) < w(syndrome_table[syndrome_tuple]):\n",
    "            syndrome_table[syndrome_tuple] = error_vector\n",
    "    return syndrome_table\n",
    "\n",
    "syndrome_table = build_syndrome_table(H, n)\n",
    "\n",
    "print(\"Таблица синдромного декодирования:\")\n",
    "for syndrome, error in syndrome_table.items():\n",
    "    print(f\"Синдром {syndrome}: Ошибка {error}\")"
   ]
  },
  {
   "cell_type": "code",
   "execution_count": 3,
   "metadata": {},
   "outputs": [
    {
     "name": "stdout",
     "output_type": "stream",
     "text": [
      "Пример:\n",
      "Полученное сообщение: [0 1 0 1 0]\n",
      "Синдром: [1 0]\n",
      "Позиция в таблице: [1 0 0 0 0]\n",
      "Предполагаемое сообщение: [1 1 0 1 0]\n"
     ]
    }
   ],
   "source": [
    "print('Пример:')\n",
    "y = np.random.randint(2, size=n)\n",
    "print(f'Полученное сообщение: {y}')\n",
    "s = np.mod(np.dot(H, y), 2)\n",
    "print(f'Синдром: {s}')\n",
    "e = syndrome_table[tuple(s)]\n",
    "print(f'Позиция в таблице: {e}')\n",
    "print(f'Предполагаемое сообщение: {np.mod(y + e, 2)}')"
   ]
  }
 ],
 "metadata": {
  "kernelspec": {
   "display_name": "Python 3",
   "language": "python",
   "name": "python3"
  },
  "language_info": {
   "codemirror_mode": {
    "name": "ipython",
    "version": 3
   },
   "file_extension": ".py",
   "mimetype": "text/x-python",
   "name": "python",
   "nbconvert_exporter": "python",
   "pygments_lexer": "ipython3",
   "version": "3.10.5"
  }
 },
 "nbformat": 4,
 "nbformat_minor": 2
}
