{
 "cells": [
  {
   "cell_type": "code",
   "execution_count": 13,
   "metadata": {},
   "outputs": [
    {
     "name": "stdout",
     "output_type": "stream",
     "text": [
      "(8, 3)\n",
      "[[0 0 0 0 0 0]\n",
      " [1 1 0 1 0 0]\n",
      " [1 0 1 0 1 0]\n",
      " [0 1 1 1 1 0]\n",
      " [1 0 1 1 0 1]\n",
      " [0 1 1 0 0 1]\n",
      " [0 0 0 1 1 1]\n",
      " [1 1 0 0 1 1]]\n",
      "len = 1\n",
      "{(0,): array([0, 0, 0], dtype=int32), (1,): array([1, 0, 0], dtype=int32)}\n",
      "len = 2\n",
      "{(0, 0): array([0, 0, 0], dtype=int32),\n",
      " (0, 1): array([1, 0, 1], dtype=int32),\n",
      " (1, 0): array([1, 0, 0], dtype=int32),\n",
      " (1, 1): array([0, 0, 1], dtype=int32)}\n",
      "len = 3\n",
      "{(0, 0, 0): array([0, 0, 0], dtype=int32),\n",
      " (0, 1, 1): array([1, 1, 1], dtype=int32),\n",
      " (1, 0, 1): array([1, 1, 0], dtype=int32),\n",
      " (1, 1, 0): array([0, 0, 1], dtype=int32)}\n",
      "len = 4\n",
      "{(0, 0, 0, 0): array([0, 0, 0], dtype=int32),\n",
      " (0, 0, 0, 1): array([0, 0, 1], dtype=int32),\n",
      " (0, 1, 1, 0): array([1, 1, 1], dtype=int32),\n",
      " (0, 1, 1, 1): array([1, 1, 0], dtype=int32),\n",
      " (1, 0, 1, 0): array([1, 1, 0], dtype=int32),\n",
      " (1, 0, 1, 1): array([1, 1, 1], dtype=int32),\n",
      " (1, 1, 0, 0): array([0, 0, 1], dtype=int32),\n",
      " (1, 1, 0, 1): array([0, 0, 0], dtype=int32)}\n",
      "len = 5\n",
      "{(0, 0, 0, 0, 0): array([0, 0, 0], dtype=int32),\n",
      " (0, 0, 0, 1, 1): array([1, 1, 1], dtype=int32),\n",
      " (0, 1, 1, 0, 0): array([1, 1, 1], dtype=int32),\n",
      " (0, 1, 1, 1, 1): array([0, 0, 0], dtype=int32),\n",
      " (1, 0, 1, 0, 1): array([0, 0, 0], dtype=int32),\n",
      " (1, 0, 1, 1, 0): array([1, 1, 1], dtype=int32),\n",
      " (1, 1, 0, 0, 1): array([1, 1, 1], dtype=int32),\n",
      " (1, 1, 0, 1, 0): array([0, 0, 0], dtype=int32)}\n"
     ]
    }
   ],
   "source": [
    "import numpy as np\n",
    "import itertools\n",
    "from pprint import pprint\n",
    "\n",
    "\n",
    "n, k = 6, 3\n",
    "G = np.array([\n",
    "    [1, 0, 1, 1, 0, 1],\n",
    "    [1, 0, 1, 0, 1, 0],\n",
    "    [1, 1, 0, 1, 0, 0],\n",
    "])\n",
    "H = np.array([\n",
    "    [1, 1, 0, 0, 1, 1],\n",
    "    [0, 0, 1, 0, 1, 1],\n",
    "    [0, 1, 0, 1, 0, 1],\n",
    "])\n",
    "msgs = np.array(list(itertools.product([0, 1], repeat=k)))\n",
    "print(msgs.shape)\n",
    "codewords = (msgs @ G) % 2\n",
    "print(codewords)\n",
    "\n",
    "for i in range(1, 6):\n",
    "    print(f'len = {i}')\n",
    "    syndromes = {}\n",
    "    for word in codewords:\n",
    "        # print(word[:i], (word[:i] @ H[:, :i].T) % 2)\n",
    "        syndromes[tuple(word[:i])] = (word[:i] @ H[:, :i].T) % 2\n",
    "    pprint(syndromes)"
   ]
  }
 ],
 "metadata": {
  "kernelspec": {
   "display_name": "Python 3",
   "language": "python",
   "name": "python3"
  },
  "language_info": {
   "codemirror_mode": {
    "name": "ipython",
    "version": 3
   },
   "file_extension": ".py",
   "mimetype": "text/x-python",
   "name": "python",
   "nbconvert_exporter": "python",
   "pygments_lexer": "ipython3",
   "version": "3.10.5"
  }
 },
 "nbformat": 4,
 "nbformat_minor": 2
}
