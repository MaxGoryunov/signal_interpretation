{
 "cells": [
  {
   "cell_type": "markdown",
   "id": "442f3da9",
   "metadata": {},
   "source": [
    "## Задание 1: Циклотомические классы"
   ]
  },
  {
   "cell_type": "code",
   "execution_count": 1,
   "id": "afe6a364",
   "metadata": {},
   "outputs": [],
   "source": [
    "def cyclotomic_classes(p: int, n: int) -> dict[tuple, list[int]]:\n",
    "    vs = range(n)\n",
    "    visited = {v: False for v in vs}\n",
    "    ptr = 0\n",
    "    classes = {}\n",
    "    while ptr < n:\n",
    "        if not visited[ptr]:\n",
    "            cls = [ptr]\n",
    "            cur = ptr\n",
    "            visited[cur] = True\n",
    "            while True:\n",
    "                cur = cur * p % n\n",
    "                visited[cur] = True\n",
    "                if cur == ptr:\n",
    "                    break\n",
    "                else:\n",
    "                    cls.append(cur)\n",
    "            classes[(ptr,)] = cls\n",
    "        ptr += 1\n",
    "    return classes"
   ]
  },
  {
   "cell_type": "code",
   "execution_count": 2,
   "id": "bbeea392",
   "metadata": {},
   "outputs": [
    {
     "name": "stdout",
     "output_type": "stream",
     "text": [
      "Cyclotomic classes:\n",
      "{(0,): [0], (1,): [1, 2, 4, 8, 16, 9, 18, 13, 3, 6, 12], (5,): [5, 10, 20, 17, 11, 22, 21, 19, 15, 7, 14]}\n"
     ]
    }
   ],
   "source": [
    "p = 2\n",
    "n = 23\n",
    "\n",
    "classes = cyclotomic_classes(p, n)\n",
    "print('Cyclotomic classes:')\n",
    "print(classes)"
   ]
  },
  {
   "cell_type": "markdown",
   "id": "d09684e7",
   "metadata": {},
   "source": [
    "## Задание 2: неприводимые БЧХ коды"
   ]
  },
  {
   "cell_type": "code",
   "execution_count": 3,
   "id": "ba0a0d9e",
   "metadata": {},
   "outputs": [],
   "source": [
    "from itertools import combinations, chain\n",
    "from pprint import pprint\n",
    "from copy import deepcopy\n",
    "import pandas as pd\n",
    "\n",
    "\n",
    "def longest_consecutive_subsequence(seq: list[int]) -> int:\n",
    "    lookup = set(seq)\n",
    "    longest = 0\n",
    "    for num in seq:\n",
    "        if num - 1 not in lookup:\n",
    "            cur_num = num\n",
    "            cur_len = 1\n",
    "            while cur_num + 1 in lookup:\n",
    "                cur_num += 1\n",
    "                cur_len += 1\n",
    "            longest = max(longest, cur_len)\n",
    "    return longest\n",
    "\n",
    "def bch_codes(classes: dict[tuple, list[int]], copy=False):\n",
    "    if copy:\n",
    "        results = deepcopy(classes)\n",
    "    else:\n",
    "        results = {}\n",
    "    for i in range(2, len(classes) + 1):\n",
    "        for combo in combinations(classes.items(), i):\n",
    "            labels, values = zip(*combo)\n",
    "            labels = tuple(sorted(chain.from_iterable(labels)))\n",
    "            values = sorted(chain.from_iterable(values))\n",
    "            results[labels] = values\n",
    "    return results\n",
    "\n",
    "def codes_info(codes: dict[tuple, list[int]], n: int):\n",
    "    info = []\n",
    "    for labels, degs in codes.items():\n",
    "        info.append({\n",
    "            'Degrees': degs,\n",
    "            'g(x)': '(' + '.'.join(f'M{l}' for l in labels) + ')(x)',\n",
    "            'k': n - len(degs),\n",
    "            'Distance': longest_consecutive_subsequence(degs) + 1,\n",
    "        })\n",
    "    return info"
   ]
  },
  {
   "cell_type": "code",
   "execution_count": 4,
   "id": "acbeae71",
   "metadata": {},
   "outputs": [
    {
     "name": "stdout",
     "output_type": "stream",
     "text": [
      "{(0,): [0],\n",
      " (0, 1): [0, 1, 2, 3, 4, 6, 8, 9, 12, 13, 16, 18],\n",
      " (0, 1, 5): [0,\n",
      "             1,\n",
      "             2,\n",
      "             3,\n",
      "             4,\n",
      "             5,\n",
      "             6,\n",
      "             7,\n",
      "             8,\n",
      "             9,\n",
      "             10,\n",
      "             11,\n",
      "             12,\n",
      "             13,\n",
      "             14,\n",
      "             15,\n",
      "             16,\n",
      "             17,\n",
      "             18,\n",
      "             19,\n",
      "             20,\n",
      "             21,\n",
      "             22],\n",
      " (0, 5): [0, 5, 7, 10, 11, 14, 15, 17, 19, 20, 21, 22],\n",
      " (1,): [1, 2, 4, 8, 16, 9, 18, 13, 3, 6, 12],\n",
      " (1, 5): [1,\n",
      "          2,\n",
      "          3,\n",
      "          4,\n",
      "          5,\n",
      "          6,\n",
      "          7,\n",
      "          8,\n",
      "          9,\n",
      "          10,\n",
      "          11,\n",
      "          12,\n",
      "          13,\n",
      "          14,\n",
      "          15,\n",
      "          16,\n",
      "          17,\n",
      "          18,\n",
      "          19,\n",
      "          20,\n",
      "          21,\n",
      "          22],\n",
      " (5,): [5, 10, 20, 17, 11, 22, 21, 19, 15, 7, 14]}\n",
      "[{'Degrees': [0], 'Distance': 2, 'g(x)': '(M0)(x)', 'k': 22},\n",
      " {'Degrees': [1, 2, 4, 8, 16, 9, 18, 13, 3, 6, 12],\n",
      "  'Distance': 5,\n",
      "  'g(x)': '(M1)(x)',\n",
      "  'k': 12},\n",
      " {'Degrees': [5, 10, 20, 17, 11, 22, 21, 19, 15, 7, 14],\n",
      "  'Distance': 5,\n",
      "  'g(x)': '(M5)(x)',\n",
      "  'k': 12},\n",
      " {'Degrees': [0, 1, 2, 3, 4, 6, 8, 9, 12, 13, 16, 18],\n",
      "  'Distance': 6,\n",
      "  'g(x)': '(M0.M1)(x)',\n",
      "  'k': 11},\n",
      " {'Degrees': [0, 5, 7, 10, 11, 14, 15, 17, 19, 20, 21, 22],\n",
      "  'Distance': 5,\n",
      "  'g(x)': '(M0.M5)(x)',\n",
      "  'k': 11},\n",
      " {'Degrees': [1,\n",
      "              2,\n",
      "              3,\n",
      "              4,\n",
      "              5,\n",
      "              6,\n",
      "              7,\n",
      "              8,\n",
      "              9,\n",
      "              10,\n",
      "              11,\n",
      "              12,\n",
      "              13,\n",
      "              14,\n",
      "              15,\n",
      "              16,\n",
      "              17,\n",
      "              18,\n",
      "              19,\n",
      "              20,\n",
      "              21,\n",
      "              22],\n",
      "  'Distance': 23,\n",
      "  'g(x)': '(M1.M5)(x)',\n",
      "  'k': 1},\n",
      " {'Degrees': [0,\n",
      "              1,\n",
      "              2,\n",
      "              3,\n",
      "              4,\n",
      "              5,\n",
      "              6,\n",
      "              7,\n",
      "              8,\n",
      "              9,\n",
      "              10,\n",
      "              11,\n",
      "              12,\n",
      "              13,\n",
      "              14,\n",
      "              15,\n",
      "              16,\n",
      "              17,\n",
      "              18,\n",
      "              19,\n",
      "              20,\n",
      "              21,\n",
      "              22],\n",
      "  'Distance': 24,\n",
      "  'g(x)': '(M0.M1.M5)(x)',\n",
      "  'k': 0}]\n"
     ]
    }
   ],
   "source": [
    "codes = bch_codes(classes, True)\n",
    "pprint(codes)\n",
    "info = codes_info(codes, n)\n",
    "pprint(info)"
   ]
  },
  {
   "cell_type": "code",
   "execution_count": 5,
   "id": "2b4fc80a",
   "metadata": {},
   "outputs": [],
   "source": [
    "%%capture\n",
    "import import_ipynb\n",
    "import sys\n",
    "import os\n",
    "from min_polys_and_orders import register_self_feed"
   ]
  },
  {
   "cell_type": "code",
   "execution_count": 6,
   "id": "2f99bdef",
   "metadata": {},
   "outputs": [],
   "source": [
    "import numpy as np"
   ]
  },
  {
   "cell_type": "code",
   "execution_count": 7,
   "id": "dab90d59",
   "metadata": {},
   "outputs": [],
   "source": [
    "%%capture\n",
    "n = 4\n",
    "q = 2\n",
    "mod = q ** n - 1\n",
    "begin_state = [1, 0, 0, 0]\n",
    "denominator = [1, 1, 0, 0, 1]\n",
    "msg = [0]\n",
    "\n",
    "alphas = np.array([list(state) for state in register_self_feed(q, begin_state, denominator, 14)])\n",
    "A = dict(enumerate(alphas))"
   ]
  },
  {
   "cell_type": "code",
   "execution_count": 8,
   "id": "8e04324e",
   "metadata": {},
   "outputs": [
    {
     "data": {
      "text/plain": [
       "{0: array([1, 0, 0, 0]),\n",
       " 1: array([0, 1, 0, 0]),\n",
       " 2: array([0, 0, 1, 0]),\n",
       " 3: array([0, 0, 0, 1]),\n",
       " 4: array([1, 1, 0, 0]),\n",
       " 5: array([0, 1, 1, 0]),\n",
       " 6: array([0, 0, 1, 1]),\n",
       " 7: array([1, 1, 0, 1]),\n",
       " 8: array([1, 0, 1, 0]),\n",
       " 9: array([0, 1, 0, 1]),\n",
       " 10: array([1, 1, 1, 0]),\n",
       " 11: array([0, 1, 1, 1]),\n",
       " 12: array([1, 1, 1, 1]),\n",
       " 13: array([1, 0, 1, 1]),\n",
       " 14: array([1, 0, 0, 1])}"
      ]
     },
     "execution_count": 8,
     "metadata": {},
     "output_type": "execute_result"
    }
   ],
   "source": [
    "A"
   ]
  },
  {
   "cell_type": "code",
   "execution_count": null,
   "id": "7e11d5be",
   "metadata": {},
   "outputs": [],
   "source": [
    "def A_lookup(A: dict[int, np.ndarray], mod: int, q: int):\n",
    "    At = {i: tuple(alpha) for i, alpha in A.items()}\n",
    "    A_rev = {alpha: i for i, alpha in At.items()}\n",
    "    lookup = {\n",
    "        beta: {alpha: -1 for alpha in At.values()}\n",
    "        for beta in At.values()\n",
    "    }\n",
    "    for i in range(mod):\n",
    "        for j in range(i + 1, mod):\n",
    "            mul = (A[i] + A[j]) % q\n",
    "            lookup[At[i], At[j]] = A_rev[tuple(mul)]\n",
    "            lookup[At[j], At[i]] = lookup[At[i], At[j]]\n",
    "    return lookup, At\n",
    "\n",
    "def print_L_formatted():\n",
    "    pass\n",
    "\n",
    "def rs_syndromes(A: dict[int, np.ndarray], v: list[int], mod: int, q: int):\n",
    "    syndromes = {}\n",
    "    L, At = A_lookup(A, mod, q)\n",
    "    \n",
    "    for j in range(mod):\n",
    "        syndromes[j] = np.sum([A[L[At[j]][At[i]]] for i in range(mod)], axis=0) % q\n",
    "        # print(np.sum([np.multiply(A[j], A[i]) for i in range(mod)], axis=0))\n",
    "        # syndromes[j] = np.sum([np.multiply(A[j], A[i]) for i in range(mod)], axis=0) % q\n",
    "        # break\n",
    "    return syndromes"
   ]
  },
  {
   "cell_type": "code",
   "execution_count": 18,
   "id": "0181f284",
   "metadata": {},
   "outputs": [
    {
     "ename": "ValueError",
     "evalue": "The truth value of an array with more than one element is ambiguous. Use a.any() or a.all()",
     "output_type": "error",
     "traceback": [
      "\u001b[1;31m---------------------------------------------------------------------------\u001b[0m",
      "\u001b[1;31mValueError\u001b[0m                                Traceback (most recent call last)",
      "Cell \u001b[1;32mIn[18], line 2\u001b[0m\n\u001b[0;32m      1\u001b[0m v \u001b[38;5;241m=\u001b[39m [\u001b[38;5;241m1\u001b[39m, \u001b[38;5;241m3\u001b[39m, \u001b[38;5;241m7\u001b[39m, \u001b[38;5;241m12\u001b[39m, \u001b[38;5;241m13\u001b[39m, \u001b[38;5;241m14\u001b[39m, \u001b[38;5;241m9\u001b[39m, \u001b[38;5;241m5\u001b[39m, \u001b[38;5;241m0\u001b[39m, \u001b[38;5;241m10\u001b[39m, \u001b[38;5;241m8\u001b[39m, \u001b[38;5;241m1\u001b[39m, \u001b[38;5;241m10\u001b[39m, \u001b[38;5;241m13\u001b[39m, \u001b[38;5;241m2\u001b[39m]\n\u001b[1;32m----> 2\u001b[0m syndromes \u001b[38;5;241m=\u001b[39m \u001b[43mrs_syndromes\u001b[49m\u001b[43m(\u001b[49m\u001b[43mA\u001b[49m\u001b[43m,\u001b[49m\u001b[43m \u001b[49m\u001b[43mv\u001b[49m\u001b[43m,\u001b[49m\u001b[43m \u001b[49m\u001b[43mmod\u001b[49m\u001b[43m,\u001b[49m\u001b[43m \u001b[49m\u001b[43mq\u001b[49m\u001b[43m)\u001b[49m\n\u001b[0;32m      3\u001b[0m pprint(syndromes)\n",
      "Cell \u001b[1;32mIn[17], line 18\u001b[0m, in \u001b[0;36mrs_syndromes\u001b[1;34m(A, v, mod, q)\u001b[0m\n\u001b[0;32m     16\u001b[0m syndromes \u001b[38;5;241m=\u001b[39m {}\n\u001b[0;32m     17\u001b[0m L, At \u001b[38;5;241m=\u001b[39m A_lookup(A, mod, q)\n\u001b[1;32m---> 18\u001b[0m \u001b[43mpprint\u001b[49m\u001b[43m(\u001b[49m\u001b[43mL\u001b[49m\u001b[43m)\u001b[49m\n\u001b[0;32m     19\u001b[0m \u001b[38;5;28;01mfor\u001b[39;00m j \u001b[38;5;129;01min\u001b[39;00m \u001b[38;5;28mrange\u001b[39m(mod):\n\u001b[0;32m     20\u001b[0m     syndromes[j] \u001b[38;5;241m=\u001b[39m np\u001b[38;5;241m.\u001b[39msum([A[L[At[j]][At[i]]] \u001b[38;5;28;01mfor\u001b[39;00m i \u001b[38;5;129;01min\u001b[39;00m \u001b[38;5;28mrange\u001b[39m(mod)], axis\u001b[38;5;241m=\u001b[39m\u001b[38;5;241m0\u001b[39m) \u001b[38;5;241m%\u001b[39m q\n",
      "File \u001b[1;32mc:\\Python310\\lib\\pprint.py:55\u001b[0m, in \u001b[0;36mpprint\u001b[1;34m(object, stream, indent, width, depth, compact, sort_dicts, underscore_numbers)\u001b[0m\n\u001b[0;32m     50\u001b[0m \u001b[38;5;250m\u001b[39m\u001b[38;5;124;03m\"\"\"Pretty-print a Python object to a stream [default is sys.stdout].\"\"\"\u001b[39;00m\n\u001b[0;32m     51\u001b[0m printer \u001b[38;5;241m=\u001b[39m PrettyPrinter(\n\u001b[0;32m     52\u001b[0m     stream\u001b[38;5;241m=\u001b[39mstream, indent\u001b[38;5;241m=\u001b[39mindent, width\u001b[38;5;241m=\u001b[39mwidth, depth\u001b[38;5;241m=\u001b[39mdepth,\n\u001b[0;32m     53\u001b[0m     compact\u001b[38;5;241m=\u001b[39mcompact, sort_dicts\u001b[38;5;241m=\u001b[39msort_dicts,\n\u001b[0;32m     54\u001b[0m     underscore_numbers\u001b[38;5;241m=\u001b[39munderscore_numbers)\n\u001b[1;32m---> 55\u001b[0m \u001b[43mprinter\u001b[49m\u001b[38;5;241;43m.\u001b[39;49m\u001b[43mpprint\u001b[49m\u001b[43m(\u001b[49m\u001b[38;5;28;43mobject\u001b[39;49m\u001b[43m)\u001b[49m\n",
      "File \u001b[1;32mc:\\Python310\\lib\\pprint.py:152\u001b[0m, in \u001b[0;36mPrettyPrinter.pprint\u001b[1;34m(self, object)\u001b[0m\n\u001b[0;32m    151\u001b[0m \u001b[38;5;28;01mdef\u001b[39;00m \u001b[38;5;21mpprint\u001b[39m(\u001b[38;5;28mself\u001b[39m, \u001b[38;5;28mobject\u001b[39m):\n\u001b[1;32m--> 152\u001b[0m     \u001b[38;5;28;43mself\u001b[39;49m\u001b[38;5;241;43m.\u001b[39;49m\u001b[43m_format\u001b[49m\u001b[43m(\u001b[49m\u001b[38;5;28;43mobject\u001b[39;49m\u001b[43m,\u001b[49m\u001b[43m \u001b[49m\u001b[38;5;28;43mself\u001b[39;49m\u001b[38;5;241;43m.\u001b[39;49m\u001b[43m_stream\u001b[49m\u001b[43m,\u001b[49m\u001b[43m \u001b[49m\u001b[38;5;241;43m0\u001b[39;49m\u001b[43m,\u001b[49m\u001b[43m \u001b[49m\u001b[38;5;241;43m0\u001b[39;49m\u001b[43m,\u001b[49m\u001b[43m \u001b[49m\u001b[43m{\u001b[49m\u001b[43m}\u001b[49m\u001b[43m,\u001b[49m\u001b[43m \u001b[49m\u001b[38;5;241;43m0\u001b[39;49m\u001b[43m)\u001b[49m\n\u001b[0;32m    153\u001b[0m     \u001b[38;5;28mself\u001b[39m\u001b[38;5;241m.\u001b[39m_stream\u001b[38;5;241m.\u001b[39mwrite(\u001b[38;5;124m\"\u001b[39m\u001b[38;5;130;01m\\n\u001b[39;00m\u001b[38;5;124m\"\u001b[39m)\n",
      "File \u001b[1;32mc:\\Python310\\lib\\pprint.py:174\u001b[0m, in \u001b[0;36mPrettyPrinter._format\u001b[1;34m(self, object, stream, indent, allowance, context, level)\u001b[0m\n\u001b[0;32m    172\u001b[0m     \u001b[38;5;28mself\u001b[39m\u001b[38;5;241m.\u001b[39m_readable \u001b[38;5;241m=\u001b[39m \u001b[38;5;28;01mFalse\u001b[39;00m\n\u001b[0;32m    173\u001b[0m     \u001b[38;5;28;01mreturn\u001b[39;00m\n\u001b[1;32m--> 174\u001b[0m rep \u001b[38;5;241m=\u001b[39m \u001b[38;5;28;43mself\u001b[39;49m\u001b[38;5;241;43m.\u001b[39;49m\u001b[43m_repr\u001b[49m\u001b[43m(\u001b[49m\u001b[38;5;28;43mobject\u001b[39;49m\u001b[43m,\u001b[49m\u001b[43m \u001b[49m\u001b[43mcontext\u001b[49m\u001b[43m,\u001b[49m\u001b[43m \u001b[49m\u001b[43mlevel\u001b[49m\u001b[43m)\u001b[49m\n\u001b[0;32m    175\u001b[0m max_width \u001b[38;5;241m=\u001b[39m \u001b[38;5;28mself\u001b[39m\u001b[38;5;241m.\u001b[39m_width \u001b[38;5;241m-\u001b[39m indent \u001b[38;5;241m-\u001b[39m allowance\n\u001b[0;32m    176\u001b[0m \u001b[38;5;28;01mif\u001b[39;00m \u001b[38;5;28mlen\u001b[39m(rep) \u001b[38;5;241m>\u001b[39m max_width:\n",
      "File \u001b[1;32mc:\\Python310\\lib\\pprint.py:454\u001b[0m, in \u001b[0;36mPrettyPrinter._repr\u001b[1;34m(self, object, context, level)\u001b[0m\n\u001b[0;32m    453\u001b[0m \u001b[38;5;28;01mdef\u001b[39;00m \u001b[38;5;21m_repr\u001b[39m(\u001b[38;5;28mself\u001b[39m, \u001b[38;5;28mobject\u001b[39m, context, level):\n\u001b[1;32m--> 454\u001b[0m     \u001b[38;5;28mrepr\u001b[39m, readable, recursive \u001b[38;5;241m=\u001b[39m \u001b[38;5;28;43mself\u001b[39;49m\u001b[38;5;241;43m.\u001b[39;49m\u001b[43mformat\u001b[49m\u001b[43m(\u001b[49m\u001b[38;5;28;43mobject\u001b[39;49m\u001b[43m,\u001b[49m\u001b[43m \u001b[49m\u001b[43mcontext\u001b[49m\u001b[38;5;241;43m.\u001b[39;49m\u001b[43mcopy\u001b[49m\u001b[43m(\u001b[49m\u001b[43m)\u001b[49m\u001b[43m,\u001b[49m\n\u001b[0;32m    455\u001b[0m \u001b[43m                                            \u001b[49m\u001b[38;5;28;43mself\u001b[39;49m\u001b[38;5;241;43m.\u001b[39;49m\u001b[43m_depth\u001b[49m\u001b[43m,\u001b[49m\u001b[43m \u001b[49m\u001b[43mlevel\u001b[49m\u001b[43m)\u001b[49m\n\u001b[0;32m    456\u001b[0m     \u001b[38;5;28;01mif\u001b[39;00m \u001b[38;5;129;01mnot\u001b[39;00m readable:\n\u001b[0;32m    457\u001b[0m         \u001b[38;5;28mself\u001b[39m\u001b[38;5;241m.\u001b[39m_readable \u001b[38;5;241m=\u001b[39m \u001b[38;5;28;01mFalse\u001b[39;00m\n",
      "File \u001b[1;32mc:\\Python310\\lib\\pprint.py:467\u001b[0m, in \u001b[0;36mPrettyPrinter.format\u001b[1;34m(self, object, context, maxlevels, level)\u001b[0m\n\u001b[0;32m    462\u001b[0m \u001b[38;5;28;01mdef\u001b[39;00m \u001b[38;5;21mformat\u001b[39m(\u001b[38;5;28mself\u001b[39m, \u001b[38;5;28mobject\u001b[39m, context, maxlevels, level):\n\u001b[0;32m    463\u001b[0m \u001b[38;5;250m    \u001b[39m\u001b[38;5;124;03m\"\"\"Format object for a specific context, returning a string\u001b[39;00m\n\u001b[0;32m    464\u001b[0m \u001b[38;5;124;03m    and flags indicating whether the representation is 'readable'\u001b[39;00m\n\u001b[0;32m    465\u001b[0m \u001b[38;5;124;03m    and whether the object represents a recursive construct.\u001b[39;00m\n\u001b[0;32m    466\u001b[0m \u001b[38;5;124;03m    \"\"\"\u001b[39;00m\n\u001b[1;32m--> 467\u001b[0m     \u001b[38;5;28;01mreturn\u001b[39;00m \u001b[38;5;28;43mself\u001b[39;49m\u001b[38;5;241;43m.\u001b[39;49m\u001b[43m_safe_repr\u001b[49m\u001b[43m(\u001b[49m\u001b[38;5;28;43mobject\u001b[39;49m\u001b[43m,\u001b[49m\u001b[43m \u001b[49m\u001b[43mcontext\u001b[49m\u001b[43m,\u001b[49m\u001b[43m \u001b[49m\u001b[43mmaxlevels\u001b[49m\u001b[43m,\u001b[49m\u001b[43m \u001b[49m\u001b[43mlevel\u001b[49m\u001b[43m)\u001b[49m\n",
      "File \u001b[1;32mc:\\Python310\\lib\\pprint.py:579\u001b[0m, in \u001b[0;36mPrettyPrinter._safe_repr\u001b[1;34m(self, object, context, maxlevels, level)\u001b[0m\n\u001b[0;32m    577\u001b[0m level \u001b[38;5;241m+\u001b[39m\u001b[38;5;241m=\u001b[39m \u001b[38;5;241m1\u001b[39m\n\u001b[0;32m    578\u001b[0m \u001b[38;5;28;01mif\u001b[39;00m \u001b[38;5;28mself\u001b[39m\u001b[38;5;241m.\u001b[39m_sort_dicts:\n\u001b[1;32m--> 579\u001b[0m     items \u001b[38;5;241m=\u001b[39m \u001b[38;5;28;43msorted\u001b[39;49m\u001b[43m(\u001b[49m\u001b[38;5;28;43mobject\u001b[39;49m\u001b[38;5;241;43m.\u001b[39;49m\u001b[43mitems\u001b[49m\u001b[43m(\u001b[49m\u001b[43m)\u001b[49m\u001b[43m,\u001b[49m\u001b[43m \u001b[49m\u001b[43mkey\u001b[49m\u001b[38;5;241;43m=\u001b[39;49m\u001b[43m_safe_tuple\u001b[49m\u001b[43m)\u001b[49m\n\u001b[0;32m    580\u001b[0m \u001b[38;5;28;01melse\u001b[39;00m:\n\u001b[0;32m    581\u001b[0m     items \u001b[38;5;241m=\u001b[39m \u001b[38;5;28mobject\u001b[39m\u001b[38;5;241m.\u001b[39mitems()\n",
      "File \u001b[1;32mc:\\Python310\\lib\\pprint.py:97\u001b[0m, in \u001b[0;36m_safe_key.__lt__\u001b[1;34m(self, other)\u001b[0m\n\u001b[0;32m     95\u001b[0m \u001b[38;5;28;01mdef\u001b[39;00m \u001b[38;5;21m__lt__\u001b[39m(\u001b[38;5;28mself\u001b[39m, other):\n\u001b[0;32m     96\u001b[0m     \u001b[38;5;28;01mtry\u001b[39;00m:\n\u001b[1;32m---> 97\u001b[0m         \u001b[38;5;28;01mreturn\u001b[39;00m \u001b[38;5;28;43mself\u001b[39;49m\u001b[38;5;241;43m.\u001b[39;49m\u001b[43mobj\u001b[49m\u001b[43m \u001b[49m\u001b[38;5;241;43m<\u001b[39;49m\u001b[43m \u001b[49m\u001b[43mother\u001b[49m\u001b[38;5;241;43m.\u001b[39;49m\u001b[43mobj\u001b[49m\n\u001b[0;32m     98\u001b[0m     \u001b[38;5;28;01mexcept\u001b[39;00m \u001b[38;5;167;01mTypeError\u001b[39;00m:\n\u001b[0;32m     99\u001b[0m         \u001b[38;5;28;01mreturn\u001b[39;00m ((\u001b[38;5;28mstr\u001b[39m(\u001b[38;5;28mtype\u001b[39m(\u001b[38;5;28mself\u001b[39m\u001b[38;5;241m.\u001b[39mobj)), \u001b[38;5;28mid\u001b[39m(\u001b[38;5;28mself\u001b[39m\u001b[38;5;241m.\u001b[39mobj)) \u001b[38;5;241m<\u001b[39m \\\n\u001b[0;32m    100\u001b[0m                 (\u001b[38;5;28mstr\u001b[39m(\u001b[38;5;28mtype\u001b[39m(other\u001b[38;5;241m.\u001b[39mobj)), \u001b[38;5;28mid\u001b[39m(other\u001b[38;5;241m.\u001b[39mobj)))\n",
      "\u001b[1;31mValueError\u001b[0m: The truth value of an array with more than one element is ambiguous. Use a.any() or a.all()"
     ]
    }
   ],
   "source": [
    "v = [1, 3, 7, 12, 13, 14, 9, 5, 0, 10, 8, 1, 10, 13, 2]\n",
    "syndromes = rs_syndromes(A, v, mod, q)\n",
    "pprint(syndromes)"
   ]
  },
  {
   "cell_type": "markdown",
   "id": "3892f9cf",
   "metadata": {},
   "source": [
    "## Задание 3: вектор ошибок"
   ]
  }
 ],
 "metadata": {
  "kernelspec": {
   "display_name": "Python 3",
   "language": "python",
   "name": "python3"
  },
  "language_info": {
   "codemirror_mode": {
    "name": "ipython",
    "version": 3
   },
   "file_extension": ".py",
   "mimetype": "text/x-python",
   "name": "python",
   "nbconvert_exporter": "python",
   "pygments_lexer": "ipython3",
   "version": "3.10.5"
  }
 },
 "nbformat": 4,
 "nbformat_minor": 5
}
