{
 "cells": [
  {
   "cell_type": "code",
   "execution_count": 4,
   "id": "afe6a364",
   "metadata": {},
   "outputs": [],
   "source": [
    "def cyclotomic_classes(p: int, n: int) -> list[list[int]]:\n",
    "    vs = range(n)\n",
    "    visited = {v: False for v in vs}\n",
    "    ptr = 0\n",
    "    classes = []\n",
    "    while ptr < n:\n",
    "        if not visited[ptr]:\n",
    "            cls = [ptr]\n",
    "            cur = ptr\n",
    "            visited[cur] = True\n",
    "            while True:\n",
    "                cur = cur * p % n\n",
    "                visited[cur] = True\n",
    "                if cur == ptr:\n",
    "                    break\n",
    "                else:\n",
    "                    cls.append(cur)\n",
    "            classes.append(cls)\n",
    "        ptr += 1\n",
    "    return classes"
   ]
  },
  {
   "cell_type": "code",
   "execution_count": 5,
   "id": "bbeea392",
   "metadata": {},
   "outputs": [
    {
     "name": "stdout",
     "output_type": "stream",
     "text": [
      "Cyclotomic classes:\n",
      "[[0], [1, 2, 4, 8, 16, 9, 18, 13, 3, 6, 12], [5, 10, 20, 17, 11, 22, 21, 19, 15, 7, 14]]\n"
     ]
    }
   ],
   "source": [
    "p = 2\n",
    "n = 23\n",
    "\n",
    "classes = cyclotomic_classes(p, n)\n",
    "print('Cyclotomic classes:')\n",
    "print(classes)"
   ]
  }
 ],
 "metadata": {
  "kernelspec": {
   "display_name": "Python 3",
   "language": "python",
   "name": "python3"
  },
  "language_info": {
   "codemirror_mode": {
    "name": "ipython",
    "version": 3
   },
   "file_extension": ".py",
   "mimetype": "text/x-python",
   "name": "python",
   "nbconvert_exporter": "python",
   "pygments_lexer": "ipython3",
   "version": "3.10.5"
  }
 },
 "nbformat": 4,
 "nbformat_minor": 5
}
