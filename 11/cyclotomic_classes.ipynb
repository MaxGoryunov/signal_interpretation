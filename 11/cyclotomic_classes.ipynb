{
 "cells": [
  {
   "cell_type": "markdown",
   "id": "442f3da9",
   "metadata": {},
   "source": [
    "## Задание 1: Циклотомические классы"
   ]
  },
  {
   "cell_type": "code",
   "execution_count": 15,
   "id": "afe6a364",
   "metadata": {},
   "outputs": [],
   "source": [
    "import numpy as np\n",
    "\n",
    "\n",
    "def cyclotomic_classes(p: int, n: int) -> dict[tuple, list[int]]:\n",
    "    vs = range(n)\n",
    "    visited = {v: False for v in vs}\n",
    "    ptr = 0\n",
    "    classes = {}\n",
    "    while ptr < n:\n",
    "        if not visited[ptr]:\n",
    "            cls = [ptr]\n",
    "            cur = ptr\n",
    "            visited[cur] = True\n",
    "            while True:\n",
    "                cur = cur * p % n\n",
    "                visited[cur] = True\n",
    "                if cur == ptr:\n",
    "                    break\n",
    "                else:\n",
    "                    cls.append(cur)\n",
    "            classes[(ptr,)] = cls\n",
    "        ptr += 1\n",
    "    return classes"
   ]
  },
  {
   "cell_type": "code",
   "execution_count": 16,
   "id": "bbeea392",
   "metadata": {},
   "outputs": [
    {
     "name": "stdout",
     "output_type": "stream",
     "text": [
      "Cyclotomic classes:\n",
      "{(0,): [0], (1,): [1, 2, 4, 8, 16, 9, 18, 13, 3, 6, 12], (5,): [5, 10, 20, 17, 11, 22, 21, 19, 15, 7, 14]}\n"
     ]
    }
   ],
   "source": [
    "p = 2\n",
    "n = 23\n",
    "\n",
    "classes = cyclotomic_classes(p, n)\n",
    "print('Cyclotomic classes:')\n",
    "print(classes)"
   ]
  },
  {
   "cell_type": "markdown",
   "id": "d09684e7",
   "metadata": {},
   "source": [
    "## Задание 2: неприводимые БЧХ коды"
   ]
  },
  {
   "cell_type": "code",
   "execution_count": 17,
   "id": "ba0a0d9e",
   "metadata": {},
   "outputs": [],
   "source": [
    "from itertools import combinations, chain\n",
    "from pprint import pprint\n",
    "from copy import deepcopy\n",
    "import pandas as pd\n",
    "\n",
    "\n",
    "def longest_consecutive_subsequence(seq: list[int]) -> int:\n",
    "    lookup = set(seq)\n",
    "    longest = 0\n",
    "    for num in seq:\n",
    "        if num - 1 not in lookup:\n",
    "            cur_num = num\n",
    "            cur_len = 1\n",
    "            while cur_num + 1 in lookup:\n",
    "                cur_num += 1\n",
    "                cur_len += 1\n",
    "            longest = max(longest, cur_len)\n",
    "    return longest\n",
    "\n",
    "def bch_codes(classes: dict[tuple, list[int]], copy=False):\n",
    "    if copy:\n",
    "        results = deepcopy(classes)\n",
    "    else:\n",
    "        results = {}\n",
    "    for i in range(2, len(classes) + 1):\n",
    "        for combo in combinations(classes.items(), i):\n",
    "            labels, values = zip(*combo)\n",
    "            labels = tuple(sorted(chain.from_iterable(labels)))\n",
    "            values = sorted(chain.from_iterable(values))\n",
    "            results[labels] = values\n",
    "    return results\n",
    "\n",
    "def codes_info(codes: dict[tuple, list[int]], n: int):\n",
    "    info = []\n",
    "    for labels, degs in codes.items():\n",
    "        info.append({\n",
    "            'Degrees': degs,\n",
    "            'g(x)': '(' + '.'.join(f'M{l}' for l in labels) + ')(x)',\n",
    "            'k': n - len(degs),\n",
    "            'Distance': longest_consecutive_subsequence(degs) + 1,\n",
    "        })\n",
    "    return info"
   ]
  },
  {
   "cell_type": "code",
   "execution_count": 18,
   "id": "acbeae71",
   "metadata": {},
   "outputs": [
    {
     "name": "stdout",
     "output_type": "stream",
     "text": [
      "{(0,): [0],\n",
      " (0, 1): [0, 1, 2, 3, 4, 6, 8, 9, 12, 13, 16, 18],\n",
      " (0, 1, 5): [0,\n",
      "             1,\n",
      "             2,\n",
      "             3,\n",
      "             4,\n",
      "             5,\n",
      "             6,\n",
      "             7,\n",
      "             8,\n",
      "             9,\n",
      "             10,\n",
      "             11,\n",
      "             12,\n",
      "             13,\n",
      "             14,\n",
      "             15,\n",
      "             16,\n",
      "             17,\n",
      "             18,\n",
      "             19,\n",
      "             20,\n",
      "             21,\n",
      "             22],\n",
      " (0, 5): [0, 5, 7, 10, 11, 14, 15, 17, 19, 20, 21, 22],\n",
      " (1,): [1, 2, 4, 8, 16, 9, 18, 13, 3, 6, 12],\n",
      " (1, 5): [1,\n",
      "          2,\n",
      "          3,\n",
      "          4,\n",
      "          5,\n",
      "          6,\n",
      "          7,\n",
      "          8,\n",
      "          9,\n",
      "          10,\n",
      "          11,\n",
      "          12,\n",
      "          13,\n",
      "          14,\n",
      "          15,\n",
      "          16,\n",
      "          17,\n",
      "          18,\n",
      "          19,\n",
      "          20,\n",
      "          21,\n",
      "          22],\n",
      " (5,): [5, 10, 20, 17, 11, 22, 21, 19, 15, 7, 14]}\n",
      "[{'Degrees': [0], 'Distance': 2, 'g(x)': '(M0)(x)', 'k': 22},\n",
      " {'Degrees': [1, 2, 4, 8, 16, 9, 18, 13, 3, 6, 12],\n",
      "  'Distance': 5,\n",
      "  'g(x)': '(M1)(x)',\n",
      "  'k': 12},\n",
      " {'Degrees': [5, 10, 20, 17, 11, 22, 21, 19, 15, 7, 14],\n",
      "  'Distance': 5,\n",
      "  'g(x)': '(M5)(x)',\n",
      "  'k': 12},\n",
      " {'Degrees': [0, 1, 2, 3, 4, 6, 8, 9, 12, 13, 16, 18],\n",
      "  'Distance': 6,\n",
      "  'g(x)': '(M0.M1)(x)',\n",
      "  'k': 11},\n",
      " {'Degrees': [0, 5, 7, 10, 11, 14, 15, 17, 19, 20, 21, 22],\n",
      "  'Distance': 5,\n",
      "  'g(x)': '(M0.M5)(x)',\n",
      "  'k': 11},\n",
      " {'Degrees': [1,\n",
      "              2,\n",
      "              3,\n",
      "              4,\n",
      "              5,\n",
      "              6,\n",
      "              7,\n",
      "              8,\n",
      "              9,\n",
      "              10,\n",
      "              11,\n",
      "              12,\n",
      "              13,\n",
      "              14,\n",
      "              15,\n",
      "              16,\n",
      "              17,\n",
      "              18,\n",
      "              19,\n",
      "              20,\n",
      "              21,\n",
      "              22],\n",
      "  'Distance': 23,\n",
      "  'g(x)': '(M1.M5)(x)',\n",
      "  'k': 1},\n",
      " {'Degrees': [0,\n",
      "              1,\n",
      "              2,\n",
      "              3,\n",
      "              4,\n",
      "              5,\n",
      "              6,\n",
      "              7,\n",
      "              8,\n",
      "              9,\n",
      "              10,\n",
      "              11,\n",
      "              12,\n",
      "              13,\n",
      "              14,\n",
      "              15,\n",
      "              16,\n",
      "              17,\n",
      "              18,\n",
      "              19,\n",
      "              20,\n",
      "              21,\n",
      "              22],\n",
      "  'Distance': 24,\n",
      "  'g(x)': '(M0.M1.M5)(x)',\n",
      "  'k': 0}]\n"
     ]
    }
   ],
   "source": [
    "codes = bch_codes(classes, True)\n",
    "pprint(codes)\n",
    "info = codes_info(codes, n)\n",
    "pprint(info)"
   ]
  },
  {
   "cell_type": "code",
   "execution_count": 37,
   "id": "71ed4f33",
   "metadata": {},
   "outputs": [
    {
     "name": "stdout",
     "output_type": "stream",
     "text": [
      "{0: array([1, 0, 0, 0]), 1: array([0, 1, 0, 0]), 2: array([0, 0, 1, 0]), 3: array([0, 0, 0, 1]), 4: array([1, 1, 0, 0]), 5: array([0, 1, 1, 0]), 6: array([0, 0, 1, 1]), 7: array([1, 1, 0, 1]), 8: array([1, 0, 1, 0]), 9: array([0, 1, 0, 1]), 10: array([1, 1, 1, 0]), 11: array([0, 1, 1, 1]), 12: array([1, 1, 1, 1]), 13: array([1, 0, 1, 1]), 14: array([1, 0, 0, 1])}\n"
     ]
    }
   ],
   "source": [
    "golay_candidates = [i for i in info if i['k'] == 12]\n",
    "alphas = np.array([\n",
    "    [1, 0, 0, 0],\n",
    "    [0, 1, 0, 0],\n",
    "    [0, 0, 1, 0],\n",
    "    [0, 0, 0, 1],\n",
    "    [1, 1, 0, 0],\n",
    "    [0, 1, 1, 0],\n",
    "    [0, 0, 1, 1],\n",
    "    [1, 1, 0, 1],\n",
    "    [1, 0, 1, 0],\n",
    "    [0, 1, 0, 1],\n",
    "    [1, 1, 1, 0],\n",
    "    [0, 1, 1, 1],\n",
    "    [1, 1, 1, 1],\n",
    "    [1, 0, 1, 1],\n",
    "    [1, 0, 0, 1],\n",
    "])\n",
    "alphas = {i: alpha for i, alpha in enumerate(alphas)}\n",
    "# alphas[np.nan] = 0\n",
    "print(alphas)"
   ]
  },
  {
   "cell_type": "code",
   "execution_count": 69,
   "id": "f83133cb",
   "metadata": {},
   "outputs": [],
   "source": [
    "def multiply_polys(\n",
    "    left: np.ndarray,\n",
    "    right: np.ndarray,\n",
    "    alphas: dict[int, np.ndarray|int],\n",
    "    alphas_rev: dict[tuple, int],\n",
    "    mod: int,\n",
    "    q: int\n",
    "):\n",
    "    mul = np.zeros((left.shape[0], right.shape[0]), dtype=int)\n",
    "    for i in range(left.shape[0]):\n",
    "        for j in range(right.shape[0]):\n",
    "            mul[i, j] = (left[i] + right[j]) % mod\n",
    "    diags = left.shape[0] + right.shape[0] - 1\n",
    "    print(f'{mul = }')\n",
    "    res = []\n",
    "    for k in range(diags):\n",
    "        diag = []\n",
    "        for i in range(k + 1):\n",
    "            if (k - i < left.shape[0]) and (i < right.shape[0]):\n",
    "                diag.append(mul[k - i, i])\n",
    "        print(f'{diag = }')\n",
    "        # selected = np.array([alphas[d] for d in diag])\n",
    "        # selected = np.sum([alphas[d] for d in diag], axis=0)\n",
    "        # print(f'{selected = }')\n",
    "        a_p = np.sum([alphas[d] for d in diag], axis=0) % q\n",
    "        res.append(alphas_rev[tuple(a_p)])\n",
    "    return np.array(res)\n",
    "\n",
    "def generator_poly(degs: list[int], alphas: dict[int, np.ndarray|int], mod: int, q: int) -> list[int]:\n",
    "    degs_ = [np.array([deg, 0]) for deg in degs]\n",
    "    alphas_rev = {tuple(alpha): i for i, alpha in alphas.items()}\n",
    "    cum = degs_[0]\n",
    "    for deg_ in degs_[1:]:\n",
    "        cum = multiply_polys(cum, deg_, alphas, alphas_rev, mod, q)\n",
    "    return cum"
   ]
  },
  {
   "cell_type": "code",
   "execution_count": 70,
   "id": "ffb3a856",
   "metadata": {},
   "outputs": [
    {
     "name": "stdout",
     "output_type": "stream",
     "text": [
      "mul = array([[3, 1],\n",
      "       [2, 0]])\n",
      "diag = [3]\n",
      "diag = [2, 1]\n",
      "diag = [0]\n",
      "mul = array([[6, 3],\n",
      "       [8, 5],\n",
      "       [3, 0]])\n",
      "diag = [6]\n",
      "diag = [8, 3]\n",
      "diag = [3, 5]\n",
      "diag = [0]\n",
      "mul = array([[10,  6],\n",
      "       [ 2, 13],\n",
      "       [ 0, 11],\n",
      "       [ 4,  0]])\n",
      "diag = [10]\n",
      "diag = [2, 6]\n",
      "diag = [0, 13]\n",
      "diag = [4, 11]\n",
      "diag = [0]\n"
     ]
    },
    {
     "data": {
      "text/plain": [
       "array([10,  3,  6, 13,  0])"
      ]
     },
     "execution_count": 70,
     "metadata": {},
     "output_type": "execute_result"
    }
   ],
   "source": [
    "g = generator_poly([1, 2, 3, 4], alphas, 15, 2)\n",
    "g"
   ]
  },
  {
   "cell_type": "markdown",
   "id": "3892f9cf",
   "metadata": {},
   "source": [
    "## Задание 3: вектор ошибок"
   ]
  },
  {
   "cell_type": "code",
   "execution_count": 71,
   "id": "2b4fc80a",
   "metadata": {},
   "outputs": [],
   "source": [
    "%%capture\n",
    "import import_ipynb\n",
    "import sys\n",
    "import os\n",
    "from min_polys_and_orders import register_self_feed"
   ]
  },
  {
   "cell_type": "code",
   "execution_count": 72,
   "id": "2f99bdef",
   "metadata": {},
   "outputs": [],
   "source": [
    "import numpy as np"
   ]
  },
  {
   "cell_type": "code",
   "execution_count": 73,
   "id": "dab90d59",
   "metadata": {},
   "outputs": [],
   "source": [
    "%%capture\n",
    "n = 4\n",
    "q = 2\n",
    "mod = q ** n - 1\n",
    "begin_state = [1, 0, 0, 0]\n",
    "denominator = [1, 1, 0, 0, 1]\n",
    "msg = [0]\n",
    "\n",
    "alphas = np.array([list(state) for state in register_self_feed(q, begin_state, denominator, 14)])\n",
    "A = dict(enumerate(alphas))"
   ]
  },
  {
   "cell_type": "code",
   "execution_count": 74,
   "id": "8e04324e",
   "metadata": {},
   "outputs": [
    {
     "data": {
      "text/plain": [
       "{0: array([1, 0, 0, 0]),\n",
       " 1: array([0, 1, 0, 0]),\n",
       " 2: array([0, 0, 1, 0]),\n",
       " 3: array([0, 0, 0, 1]),\n",
       " 4: array([1, 1, 0, 0]),\n",
       " 5: array([0, 1, 1, 0]),\n",
       " 6: array([0, 0, 1, 1]),\n",
       " 7: array([1, 1, 0, 1]),\n",
       " 8: array([1, 0, 1, 0]),\n",
       " 9: array([0, 1, 0, 1]),\n",
       " 10: array([1, 1, 1, 0]),\n",
       " 11: array([0, 1, 1, 1]),\n",
       " 12: array([1, 1, 1, 1]),\n",
       " 13: array([1, 0, 1, 1]),\n",
       " 14: array([1, 0, 0, 1])}"
      ]
     },
     "execution_count": 74,
     "metadata": {},
     "output_type": "execute_result"
    }
   ],
   "source": [
    "A"
   ]
  },
  {
   "cell_type": "code",
   "execution_count": 75,
   "id": "7e11d5be",
   "metadata": {},
   "outputs": [],
   "source": [
    "def A_lookup(A: dict[int, np.ndarray], mod: int, q: int):\n",
    "    At = {i: tuple(alpha) for i, alpha in A.items()}\n",
    "    A_rev = {alpha: i for i, alpha in At.items()}\n",
    "    lookup = {\n",
    "        beta: {alpha: -1 for alpha in At.values()}\n",
    "        for beta in At.values()\n",
    "    }\n",
    "    for i in range(mod):\n",
    "        for j in range(i + 1, mod):\n",
    "            mul = (A[i] + A[j]) % q\n",
    "            lookup[At[i], At[j]] = A_rev[tuple(mul)]\n",
    "            lookup[At[j], At[i]] = lookup[At[i], At[j]]\n",
    "    return lookup, At\n",
    "\n",
    "def print_L_formatted():\n",
    "    pass\n",
    "\n",
    "def rs_syndromes(A: dict[int, np.ndarray], v: list[int], d: int, mod: int, q: int):\n",
    "    syndromes = {}\n",
    "    for j in range(1, d):\n",
    "        syndromes[j] = np.sum([\n",
    "            A[(v[i] + i * j) % mod] for i in range(mod)\n",
    "        ], axis=0) % q\n",
    "        # break\n",
    "    return syndromes"
   ]
  },
  {
   "cell_type": "code",
   "execution_count": 76,
   "id": "0181f284",
   "metadata": {},
   "outputs": [
    {
     "name": "stdout",
     "output_type": "stream",
     "text": [
      "{1: array([1, 0, 1, 0], dtype=int32),\n",
      " 2: array([0, 0, 1, 0], dtype=int32),\n",
      " 3: array([1, 1, 1, 0], dtype=int32),\n",
      " 4: array([1, 0, 0, 0], dtype=int32),\n",
      " 5: array([0, 0, 0, 0], dtype=int32),\n",
      " 6: array([1, 1, 1, 1], dtype=int32)}\n"
     ]
    }
   ],
   "source": [
    "v = [1, 3, 7, 12, 13, 14, 9, 5, 0, 10, 8, 1, 10, 13, 2]\n",
    "d = 7\n",
    "syndromes = rs_syndromes(A, v, d, mod, q)\n",
    "pprint(syndromes)"
   ]
  },
  {
   "cell_type": "code",
   "execution_count": 77,
   "id": "849b0dce",
   "metadata": {},
   "outputs": [],
   "source": [
    "def solve_error_locator_poly(L: list[int], A: dict[int, np.ndarray], mod: int, q: int):\n",
    "    solutions = {}\n",
    "    len_L = len(L)\n",
    "    for s, a in A.items():\n",
    "        res = np.sum(\n",
    "            [A[(L[i] + (len_L - i - 1) * s) % mod] for i in range(len_L)],\n",
    "            axis=0\n",
    "        ) % q\n",
    "        if (res == 0).all():\n",
    "            solutions[s] = a\n",
    "    return solutions"
   ]
  },
  {
   "cell_type": "code",
   "execution_count": 78,
   "id": "7adcceef",
   "metadata": {},
   "outputs": [
    {
     "name": "stdout",
     "output_type": "stream",
     "text": [
      "{2: array([0, 0, 1, 0]), 5: array([0, 1, 1, 0]), 12: array([1, 1, 1, 1])}\n"
     ]
    }
   ],
   "source": [
    "L = [0, 13, 5, 4]\n",
    "solutions = solve_error_locator_poly(L, A, mod, q)\n",
    "print(solutions)"
   ]
  }
 ],
 "metadata": {
  "kernelspec": {
   "display_name": "Python 3",
   "language": "python",
   "name": "python3"
  },
  "language_info": {
   "codemirror_mode": {
    "name": "ipython",
    "version": 3
   },
   "file_extension": ".py",
   "mimetype": "text/x-python",
   "name": "python",
   "nbconvert_exporter": "python",
   "pygments_lexer": "ipython3",
   "version": "3.10.5"
  }
 },
 "nbformat": 4,
 "nbformat_minor": 5
}
