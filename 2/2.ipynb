{
 "cells": [
  {
   "cell_type": "code",
   "execution_count": 1,
   "metadata": {},
   "outputs": [],
   "source": [
    "import numpy as np\n",
    "import itertools\n",
    "import pandas as pd\n",
    "\n",
    "G = np.array([\n",
    "    [1, 0, 0, 0, 1, 1, 0, 1],\n",
    "    [0, 1, 0, 0, 1, 0, 1, 1],\n",
    "    [0, 0, 1, 0, 0, 1, 1, 1],\n",
    "    [0, 0, 0, 1, 1, 1, 1, 0]\n",
    "])\n",
    "\n",
    "messages = np.array(list(itertools.product([0, 1], repeat=4)))\n",
    "\n",
    "codewords = (messages @ G) % 2\n",
    "\n",
    "weights = np.sum(codewords, axis=1)\n",
    "\n",
    "df_codewords = pd.DataFrame({\n",
    "    \"Message\": [\"\".join(map(str, msg)) for msg in messages],\n",
    "    \"Codeword\": [\"\".join(map(str, cw)) for cw in codewords],\n",
    "    \"Weight\": weights\n",
    "})\n",
    "\n",
    "df_codewords.to_csv(\"hamming_8_4_codewords.csv\", index=False)\n",
    "\n",
    "num_codewords = len(codewords)\n",
    "distance_matrix = np.zeros((num_codewords, num_codewords), dtype=int)\n",
    "\n",
    "for i in range(num_codewords):\n",
    "    for j in range(num_codewords):\n",
    "        distance_matrix[i, j] = np.sum(codewords[i] != codewords[j])\n",
    "\n",
    "df_distances = pd.DataFrame(\n",
    "    distance_matrix,\n",
    "    index=[\"\".join(map(str, cw)) for cw in codewords],\n",
    "    columns=[\"\".join(map(str, cw)) for cw in codewords]\n",
    ")\n",
    "\n",
    "df_distances.to_csv(\"hamming_8_4_distances.csv\")\n"
   ]
  }
 ],
 "metadata": {
  "kernelspec": {
   "display_name": "Python 3",
   "language": "python",
   "name": "python3"
  },
  "language_info": {
   "codemirror_mode": {
    "name": "ipython",
    "version": 3
   },
   "file_extension": ".py",
   "mimetype": "text/x-python",
   "name": "python",
   "nbconvert_exporter": "python",
   "pygments_lexer": "ipython3",
   "version": "3.10.5"
  }
 },
 "nbformat": 4,
 "nbformat_minor": 2
}
